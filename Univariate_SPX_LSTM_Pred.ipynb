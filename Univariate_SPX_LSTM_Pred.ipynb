{
 "cells": [
  {
   "cell_type": "code",
   "execution_count": 15,
   "id": "entitled-cleveland",
   "metadata": {},
   "outputs": [],
   "source": [
    "import sklearn \n",
    "import tensorflow as tf\n",
    "from tensorflow import keras\n",
    "import pandas as pd\n",
    "import numpy as np\n",
    "import math\n",
    "from keras.layers import LSTM, Dense\n",
    "from sklearn.preprocessing import MinMaxScaler\n",
    "import datetime as dt\n",
    "import matplotlib.pyplot as plt\n",
    "import seaborn as sns"
   ]
  },
  {
   "cell_type": "code",
   "execution_count": 2,
   "id": "alternative-sight",
   "metadata": {},
   "outputs": [],
   "source": [
    "if not tf.config.list_physical_devices('GPU'):\n",
    "    print(\"No GPU was detected. LSTMs and CNNs can be very slow without a GPU.\")\n",
    "    # if IS_COLAB:\n",
    "    #     print(\"Go to Runtime > Change runtime and select a GPU hardware accelerator.\")\n",
    "devices = tf.config.experimental.list_physical_devices('GPU')\n",
    "tf.config.experimental.set_memory_growth(devices[0], True)"
   ]
  },
  {
   "cell_type": "code",
   "execution_count": 3,
   "id": "dried-coating",
   "metadata": {},
   "outputs": [],
   "source": [
    "# the goal is to teach model to predict just one value (the last one from a sequense)\n",
    "def last_step_mse(y_true, y_pred):\n",
    "    return keras.metrics.mean_squared_error(y_true[-1], y_pred[-1])\n",
    "\n",
    "# split dataset to univariate samples\n",
    "def split_sequence(sequence, n_steps):\n",
    "    X, y = [], []\n",
    "    for i in range(sequence.shape[0]):\n",
    "        end_x_seq = i + n_steps\n",
    "        # break if there is no enough data to add new X and y seqs\n",
    "        if end_x_seq >= sequence.shape[0]:\n",
    "            break\n",
    "        # take and collet data sequences\n",
    "        seq_X, seq_y = sequence[i:end_x_seq], sequence[end_x_seq] \n",
    "        X.append(seq_X)\n",
    "        y.append(seq_y)\n",
    "    return np.array(X), np.array(y)"
   ]
  },
  {
   "cell_type": "code",
   "execution_count": 4,
   "id": "theoretical-synthetic",
   "metadata": {},
   "outputs": [],
   "source": [
    "# data initialisation\n",
    "def init_data(file_name):\n",
    "    data = pd.read_csv('Data/'+file_name)\n",
    "    data = data.set_index('Date')\n",
    "    data.index = data.index.map(lambda x: str(x)[0:10])\n",
    "    return data\n",
    "\n",
    "# only close price is used\n",
    "def clear_columns(pd):\n",
    "    return pd.drop([\"high\", \"low\", \"open\", \"volume\",\n",
    "                    \"Adj Close\"], axis=1)"
   ]
  },
  {
   "cell_type": "code",
   "execution_count": 5,
   "id": "several-vatican",
   "metadata": {},
   "outputs": [],
   "source": [
    "# create and clear a dataframe\n",
    "spx_1d_data = init_data('SPX_71_21.csv')\n",
    "spx_1d_data = clear_columns(spx_1d_data)"
   ]
  },
  {
   "cell_type": "code",
   "execution_count": 6,
   "id": "liked-customer",
   "metadata": {},
   "outputs": [
    {
     "name": "stdout",
     "output_type": "stream",
     "text": [
      "<class 'pandas.core.frame.DataFrame'>\n",
      "Index: 12842 entries, 1971-01-04 to 2021-11-21\n",
      "Data columns (total 1 columns):\n",
      " #   Column  Non-Null Count  Dtype  \n",
      "---  ------  --------------  -----  \n",
      " 0   close   12842 non-null  float64\n",
      "dtypes: float64(1)\n",
      "memory usage: 200.7+ KB\n"
     ]
    },
    {
     "data": {
      "text/plain": [
       "False"
      ]
     },
     "execution_count": 6,
     "metadata": {},
     "output_type": "execute_result"
    }
   ],
   "source": [
    "# check the data\n",
    "spx_1d_data\n",
    "spx_1d_data.describe()\n",
    "spx_1d_data.info()\n",
    "spx_1d_data.shape\n",
    "# check quantity of null and na value\n",
    "spx_1d_data.isnull().sum()\n",
    "spx_1d_data.isna().sum()\n",
    "# display all nan rows if any\n",
    "spx_1d_data[spx_1d_data.isna().any(axis=1)]\n",
    "# check if there are inf values\n",
    "np.isinf(spx_1d_data).any()\n",
    "# check if there are 0s\n",
    "(spx_1d_data == 0).sum(axis=1).any()\n",
    "# (spx_1d_data == 0).astype(int).sum(axis=1)"
   ]
  },
  {
   "cell_type": "code",
   "execution_count": 9,
   "id": "outdoor-compromise",
   "metadata": {},
   "outputs": [
    {
     "name": "stdout",
     "output_type": "stream",
     "text": [
      "[[91.15000153]\n",
      " [91.80000305]\n",
      " [92.34999847]\n",
      " [92.37999725]\n",
      " [92.19000244]]\n"
     ]
    },
    {
     "data": {
      "text/plain": [
       "(12842, 1)"
      ]
     },
     "execution_count": 9,
     "metadata": {},
     "output_type": "execute_result"
    }
   ],
   "source": [
    "# create the dataset split it to train and val data\n",
    "dataset = spx_1d_data.values\n",
    "print(dataset[:5])\n",
    "dataset.shape"
   ]
  },
  {
   "cell_type": "code",
   "execution_count": 10,
   "id": "south-holiday",
   "metadata": {},
   "outputs": [
    {
     "name": "stdout",
     "output_type": "stream",
     "text": [
      "[[-0.98756209]\n",
      " [-0.98728205]\n",
      " [-0.9870451 ]\n",
      " [-0.98703218]\n",
      " [-0.98711403]]\n"
     ]
    }
   ],
   "source": [
    "# normalize the data\n",
    "scaler = MinMaxScaler(feature_range=(-1, 1))\n",
    "scaler.fit(dataset)\n",
    "dataset = scaler.transform(dataset)\n",
    "print(dataset[:5])"
   ]
  },
  {
   "cell_type": "code",
   "execution_count": 12,
   "id": "interracial-maine",
   "metadata": {},
   "outputs": [],
   "source": [
    "# split data to train, val and test set\n",
    "test_size = 21 # let's leave 21 sessions for testing\n",
    "seq_length = 20\n",
    "dataset_size = dataset.shape[0]\n",
    "X_train, y_train = split_sequence(dataset[0: math.ceil(0.7 * dataset_size)], seq_length)\n",
    "X_val, y_val = split_sequence(dataset[math.floor(0.7 * dataset_size):-test_size], seq_length)\n",
    "X_test, y_test = split_sequence(dataset[-test_size:], seq_length)"
   ]
  },
  {
   "cell_type": "code",
   "execution_count": 14,
   "id": "thorough-orientation",
   "metadata": {},
   "outputs": [
    {
     "name": "stdout",
     "output_type": "stream",
     "text": [
      "X_train shape is: (8970, 20, 1)\n",
      "y_train shape is: (8970, 1)\n",
      "X_val shape is: (3812, 20, 1)\n",
      "y_val shape is: (3812, 1)\n",
      "X_test shape is: (1, 20, 1)\n",
      "y_test shape is: (1, 1)\n"
     ]
    }
   ],
   "source": [
    "# verify the sets\n",
    "print(f'X_train shape is: {X_train.shape}')\n",
    "print(f'y_train shape is: {y_train.shape}')\n",
    "print(f'X_val shape is: {X_val.shape}')\n",
    "print(f'y_val shape is: {y_val.shape}')\n",
    "print(f'X_test shape is: {X_test.shape}')\n",
    "print(f'y_test shape is: {y_test.shape}')"
   ]
  },
  {
   "cell_type": "code",
   "execution_count": 21,
   "id": "framed-analysis",
   "metadata": {},
   "outputs": [],
   "source": [
    "# model's parameters\n",
    "n_steps = X_train.shape[-2]\n",
    "n_features = X_train.shape[-1]\n",
    "epochs = 66"
   ]
  },
  {
   "cell_type": "code",
   "execution_count": 22,
   "id": "developing-litigation",
   "metadata": {},
   "outputs": [
    {
     "name": "stdout",
     "output_type": "stream",
     "text": [
      "Epoch 1/66\n",
      "281/281 [==============================] - 3s 11ms/step - loss: 0.0043 - last_step_mse: 0.0051 - val_loss: 0.0019 - val_last_step_mse: 0.0025\n",
      "Epoch 2/66\n",
      "281/281 [==============================] - 3s 10ms/step - loss: 8.0962e-05 - last_step_mse: 3.6970e-05 - val_loss: 0.0017 - val_last_step_mse: 0.0023\n",
      "Epoch 3/66\n",
      "281/281 [==============================] - 3s 9ms/step - loss: 7.8462e-05 - last_step_mse: 2.3036e-05 - val_loss: 0.0017 - val_last_step_mse: 0.0021\n",
      "Epoch 4/66\n",
      "281/281 [==============================] - 3s 9ms/step - loss: 7.6390e-05 - last_step_mse: 3.2308e-05 - val_loss: 0.0015 - val_last_step_mse: 0.0019\n",
      "Epoch 5/66\n",
      "281/281 [==============================] - 3s 10ms/step - loss: 7.3355e-05 - last_step_mse: 2.8826e-05 - val_loss: 0.0013 - val_last_step_mse: 0.0017\n",
      "Epoch 6/66\n",
      "281/281 [==============================] - 3s 9ms/step - loss: 6.9843e-05 - last_step_mse: 2.4549e-05 - val_loss: 0.0011 - val_last_step_mse: 0.0014\n",
      "Epoch 7/66\n",
      "281/281 [==============================] - 2s 9ms/step - loss: 6.9825e-05 - last_step_mse: 3.0068e-05 - val_loss: 9.7203e-04 - val_last_step_mse: 0.0012\n",
      "Epoch 8/66\n",
      "281/281 [==============================] - 2s 9ms/step - loss: 6.7889e-05 - last_step_mse: 2.9339e-05 - val_loss: 8.8807e-04 - val_last_step_mse: 0.0011\n",
      "Epoch 9/66\n",
      "281/281 [==============================] - 2s 9ms/step - loss: 6.5583e-05 - last_step_mse: 2.5655e-05 - val_loss: 8.5196e-04 - val_last_step_mse: 0.0011\n",
      "Epoch 10/66\n",
      "281/281 [==============================] - 3s 9ms/step - loss: 6.2921e-05 - last_step_mse: 2.7398e-05 - val_loss: 6.9405e-04 - val_last_step_mse: 8.5770e-04\n",
      "Epoch 11/66\n",
      "281/281 [==============================] - 3s 9ms/step - loss: 6.5013e-05 - last_step_mse: 3.4712e-05 - val_loss: 5.9175e-04 - val_last_step_mse: 7.2288e-04\n",
      "Epoch 12/66\n",
      "281/281 [==============================] - 2s 9ms/step - loss: 5.8678e-05 - last_step_mse: 2.4007e-05 - val_loss: 5.5855e-04 - val_last_step_mse: 6.7283e-04\n",
      "Epoch 13/66\n",
      "281/281 [==============================] - 3s 9ms/step - loss: 6.1313e-05 - last_step_mse: 3.6032e-05 - val_loss: 4.4390e-04 - val_last_step_mse: 5.2107e-04\n",
      "Epoch 14/66\n",
      "281/281 [==============================] - 3s 9ms/step - loss: 5.9540e-05 - last_step_mse: 3.4258e-05 - val_loss: 4.1952e-04 - val_last_step_mse: 4.8728e-04\n",
      "Epoch 15/66\n",
      "281/281 [==============================] - 3s 9ms/step - loss: 5.4782e-05 - last_step_mse: 2.0238e-05 - val_loss: 4.3055e-04 - val_last_step_mse: 5.0093e-04\n",
      "Epoch 16/66\n",
      "281/281 [==============================] - 2s 9ms/step - loss: 5.6119e-05 - last_step_mse: 3.0210e-05 - val_loss: 4.0353e-04 - val_last_step_mse: 4.6481e-04\n",
      "Epoch 17/66\n",
      "281/281 [==============================] - 3s 9ms/step - loss: 5.3734e-05 - last_step_mse: 2.6150e-05 - val_loss: 3.9613e-04 - val_last_step_mse: 4.5298e-04\n",
      "Epoch 18/66\n",
      "281/281 [==============================] - 3s 10ms/step - loss: 5.1642e-05 - last_step_mse: 3.0425e-05 - val_loss: 4.3663e-04 - val_last_step_mse: 5.0626e-04\n",
      "Epoch 19/66\n",
      "281/281 [==============================] - 3s 11ms/step - loss: 5.5388e-05 - last_step_mse: 3.5534e-05 - val_loss: 3.6389e-04 - val_last_step_mse: 3.9813e-04\n",
      "Epoch 20/66\n",
      "281/281 [==============================] - 3s 10ms/step - loss: 4.8691e-05 - last_step_mse: 2.5587e-05 - val_loss: 3.0105e-04 - val_last_step_mse: 3.2561e-04\n",
      "Epoch 21/66\n",
      "281/281 [==============================] - 3s 9ms/step - loss: 4.9535e-05 - last_step_mse: 3.3054e-05 - val_loss: 3.0320e-04 - val_last_step_mse: 3.2886e-04\n",
      "Epoch 22/66\n",
      "281/281 [==============================] - 3s 9ms/step - loss: 4.7192e-05 - last_step_mse: 2.3226e-05 - val_loss: 3.1501e-04 - val_last_step_mse: 3.4737e-04\n",
      "Epoch 23/66\n",
      "281/281 [==============================] - 3s 9ms/step - loss: 4.5476e-05 - last_step_mse: 2.5587e-05 - val_loss: 2.9583e-04 - val_last_step_mse: 3.2277e-04\n",
      "Epoch 24/66\n",
      "281/281 [==============================] - 3s 9ms/step - loss: 4.5954e-05 - last_step_mse: 2.7140e-05 - val_loss: 2.5402e-04 - val_last_step_mse: 2.6554e-04\n",
      "Epoch 25/66\n",
      "281/281 [==============================] - 2s 9ms/step - loss: 4.2462e-05 - last_step_mse: 2.6244e-05 - val_loss: 2.5230e-04 - val_last_step_mse: 2.6536e-04\n",
      "Epoch 26/66\n",
      "281/281 [==============================] - 3s 9ms/step - loss: 4.2108e-05 - last_step_mse: 1.9389e-05 - val_loss: 2.7638e-04 - val_last_step_mse: 3.0280e-04\n",
      "Epoch 27/66\n",
      "281/281 [==============================] - 3s 9ms/step - loss: 3.7329e-05 - last_step_mse: 2.3239e-05 - val_loss: 2.5187e-04 - val_last_step_mse: 2.7113e-04\n",
      "Epoch 28/66\n",
      "281/281 [==============================] - 3s 9ms/step - loss: 3.7727e-05 - last_step_mse: 1.9960e-05 - val_loss: 2.3474e-04 - val_last_step_mse: 2.4999e-04\n",
      "Epoch 29/66\n",
      "281/281 [==============================] - 3s 9ms/step - loss: 3.9561e-05 - last_step_mse: 2.4501e-05 - val_loss: 2.4510e-04 - val_last_step_mse: 2.6183e-04\n",
      "Epoch 30/66\n",
      "281/281 [==============================] - 2s 9ms/step - loss: 4.1464e-05 - last_step_mse: 2.5782e-05 - val_loss: 2.3289e-04 - val_last_step_mse: 2.5118e-04\n",
      "Epoch 31/66\n",
      "281/281 [==============================] - 3s 9ms/step - loss: 3.4493e-05 - last_step_mse: 1.7664e-05 - val_loss: 2.7367e-04 - val_last_step_mse: 3.0900e-04\n",
      "Epoch 32/66\n",
      "281/281 [==============================] - 3s 9ms/step - loss: 3.4775e-05 - last_step_mse: 2.0675e-05 - val_loss: 2.3803e-04 - val_last_step_mse: 2.6109e-04\n",
      "Epoch 33/66\n",
      "281/281 [==============================] - 3s 9ms/step - loss: 3.1586e-05 - last_step_mse: 1.8201e-05 - val_loss: 1.8699e-04 - val_last_step_mse: 1.9082e-04\n",
      "Epoch 34/66\n",
      "281/281 [==============================] - 3s 9ms/step - loss: 3.2655e-05 - last_step_mse: 2.3511e-05 - val_loss: 2.1277e-04 - val_last_step_mse: 2.3425e-04\n",
      "Epoch 35/66\n",
      "281/281 [==============================] - 2s 9ms/step - loss: 3.1016e-05 - last_step_mse: 2.0245e-05 - val_loss: 2.4434e-04 - val_last_step_mse: 2.7830e-04\n",
      "Epoch 36/66\n",
      "281/281 [==============================] - 3s 9ms/step - loss: 3.2264e-05 - last_step_mse: 2.4602e-05 - val_loss: 1.8757e-04 - val_last_step_mse: 2.0003e-04\n",
      "Epoch 37/66\n",
      "281/281 [==============================] - 3s 9ms/step - loss: 3.1752e-05 - last_step_mse: 1.8221e-05 - val_loss: 1.7577e-04 - val_last_step_mse: 1.8685e-04\n",
      "Epoch 38/66\n",
      "281/281 [==============================] - 3s 9ms/step - loss: 2.9208e-05 - last_step_mse: 9.9578e-06 - val_loss: 1.6362e-04 - val_last_step_mse: 1.6930e-04\n",
      "Epoch 39/66\n",
      "281/281 [==============================] - 3s 9ms/step - loss: 3.0108e-05 - last_step_mse: 2.0439e-05 - val_loss: 1.6925e-04 - val_last_step_mse: 1.8012e-04\n",
      "Epoch 40/66\n",
      "281/281 [==============================] - 3s 9ms/step - loss: 2.6692e-05 - last_step_mse: 1.5825e-05 - val_loss: 1.6708e-04 - val_last_step_mse: 1.7816e-04\n",
      "Epoch 41/66\n",
      "281/281 [==============================] - 3s 9ms/step - loss: 2.8503e-05 - last_step_mse: 1.5240e-05 - val_loss: 1.6678e-04 - val_last_step_mse: 1.7904e-04\n",
      "Epoch 42/66\n",
      "281/281 [==============================] - 3s 9ms/step - loss: 2.7433e-05 - last_step_mse: 2.0927e-05 - val_loss: 1.6265e-04 - val_last_step_mse: 1.7369e-04\n",
      "Epoch 43/66\n",
      "281/281 [==============================] - 3s 9ms/step - loss: 2.5498e-05 - last_step_mse: 1.7564e-05 - val_loss: 1.4036e-04 - val_last_step_mse: 1.4099e-04\n",
      "Epoch 44/66\n",
      "281/281 [==============================] - 3s 9ms/step - loss: 2.6439e-05 - last_step_mse: 1.6149e-05 - val_loss: 1.5409e-04 - val_last_step_mse: 1.6042e-04\n",
      "Epoch 45/66\n",
      "281/281 [==============================] - 3s 9ms/step - loss: 2.4483e-05 - last_step_mse: 1.7472e-05 - val_loss: 1.4165e-04 - val_last_step_mse: 1.4397e-04\n",
      "Epoch 46/66\n",
      "281/281 [==============================] - 3s 9ms/step - loss: 2.3502e-05 - last_step_mse: 1.3255e-05 - val_loss: 1.2637e-04 - val_last_step_mse: 1.2012e-04\n",
      "Epoch 47/66\n",
      "281/281 [==============================] - 3s 9ms/step - loss: 2.5931e-05 - last_step_mse: 2.0921e-05 - val_loss: 1.3439e-04 - val_last_step_mse: 1.3493e-04\n",
      "Epoch 48/66\n",
      "281/281 [==============================] - 3s 9ms/step - loss: 2.4621e-05 - last_step_mse: 1.6447e-05 - val_loss: 1.4439e-04 - val_last_step_mse: 1.4951e-04\n",
      "Epoch 49/66\n",
      "281/281 [==============================] - 2s 9ms/step - loss: 2.3072e-05 - last_step_mse: 1.3706e-05 - val_loss: 1.3596e-04 - val_last_step_mse: 1.3811e-04\n"
     ]
    },
    {
     "name": "stdout",
     "output_type": "stream",
     "text": [
      "Epoch 50/66\n",
      "281/281 [==============================] - 2s 9ms/step - loss: 2.2857e-05 - last_step_mse: 1.6698e-05 - val_loss: 1.3579e-04 - val_last_step_mse: 1.3403e-04\n",
      "Epoch 51/66\n",
      "281/281 [==============================] - 3s 9ms/step - loss: 2.3461e-05 - last_step_mse: 1.2120e-05 - val_loss: 1.3981e-04 - val_last_step_mse: 1.4224e-04\n",
      "Epoch 52/66\n",
      "281/281 [==============================] - 2s 9ms/step - loss: 2.1177e-05 - last_step_mse: 1.3473e-05 - val_loss: 1.2920e-04 - val_last_step_mse: 1.2869e-04\n",
      "Epoch 53/66\n",
      "281/281 [==============================] - 2s 9ms/step - loss: 2.2188e-05 - last_step_mse: 1.1169e-05 - val_loss: 1.2985e-04 - val_last_step_mse: 1.2909e-04\n",
      "Epoch 54/66\n",
      "281/281 [==============================] - 3s 9ms/step - loss: 2.2519e-05 - last_step_mse: 1.5369e-05 - val_loss: 1.4356e-04 - val_last_step_mse: 1.4744e-04\n",
      "Epoch 55/66\n",
      "281/281 [==============================] - 3s 9ms/step - loss: 2.1629e-05 - last_step_mse: 1.4516e-05 - val_loss: 1.2469e-04 - val_last_step_mse: 1.2057e-04\n",
      "Epoch 56/66\n",
      "281/281 [==============================] - 3s 9ms/step - loss: 2.1770e-05 - last_step_mse: 1.4027e-05 - val_loss: 1.3588e-04 - val_last_step_mse: 1.3607e-04\n",
      "Epoch 57/66\n",
      "281/281 [==============================] - 3s 9ms/step - loss: 2.1483e-05 - last_step_mse: 1.0503e-05 - val_loss: 1.3843e-04 - val_last_step_mse: 1.4091e-04\n",
      "Epoch 58/66\n",
      "281/281 [==============================] - 3s 9ms/step - loss: 2.1260e-05 - last_step_mse: 1.5671e-05 - val_loss: 1.3426e-04 - val_last_step_mse: 1.3400e-04\n",
      "Epoch 59/66\n",
      "281/281 [==============================] - 3s 9ms/step - loss: 2.1832e-05 - last_step_mse: 1.6284e-05 - val_loss: 1.2974e-04 - val_last_step_mse: 1.2751e-04\n",
      "Epoch 60/66\n",
      "281/281 [==============================] - 3s 9ms/step - loss: 2.0473e-05 - last_step_mse: 1.4535e-05 - val_loss: 1.3498e-04 - val_last_step_mse: 1.3544e-04\n",
      "Epoch 61/66\n",
      "281/281 [==============================] - 3s 9ms/step - loss: 2.1625e-05 - last_step_mse: 1.2033e-05 - val_loss: 1.2157e-04 - val_last_step_mse: 1.1588e-04\n",
      "Epoch 62/66\n",
      "281/281 [==============================] - 3s 9ms/step - loss: 2.1369e-05 - last_step_mse: 1.8362e-05 - val_loss: 1.2725e-04 - val_last_step_mse: 1.2057e-04\n",
      "Epoch 63/66\n",
      "281/281 [==============================] - 3s 9ms/step - loss: 1.8633e-05 - last_step_mse: 1.0170e-05 - val_loss: 1.3398e-04 - val_last_step_mse: 1.2991e-04\n",
      "Epoch 64/66\n",
      "281/281 [==============================] - 3s 9ms/step - loss: 2.0697e-05 - last_step_mse: 1.6881e-05 - val_loss: 1.2761e-04 - val_last_step_mse: 1.2395e-04\n",
      "Epoch 65/66\n",
      "281/281 [==============================] - 3s 9ms/step - loss: 2.1016e-05 - last_step_mse: 1.3284e-05 - val_loss: 1.2428e-04 - val_last_step_mse: 1.1671e-04\n",
      "Epoch 66/66\n",
      "281/281 [==============================] - 3s 9ms/step - loss: 1.9943e-05 - last_step_mse: 1.6648e-05 - val_loss: 1.3405e-04 - val_last_step_mse: 1.2972e-04\n"
     ]
    }
   ],
   "source": [
    "# RNN model \n",
    "# hiperparameters were found by kerastuner (will cover in other module)\n",
    "model = keras.Sequential()\n",
    "model.add(LSTM(units=200, activation=\"tanh\", \n",
    "               activity_regularizer=keras.regularizers.l2(1e-4),\n",
    "              input_shape=(n_steps, n_features)))\n",
    "model.add(Dense(1))\n",
    "model.compile(optimizer='adam', loss='mse', metrics=[last_step_mse])\n",
    "\n",
    "history = model.fit(X_train, y_train, \n",
    "                    epochs=epochs,\n",
    "                    validation_data=(X_val, y_val)\n",
    "                    )"
   ]
  },
  {
   "cell_type": "code",
   "execution_count": 31,
   "id": "synthetic-quantum",
   "metadata": {},
   "outputs": [
    {
     "data": {
      "text/plain": [
       "(0.0, 0.001)"
      ]
     },
     "execution_count": 31,
     "metadata": {},
     "output_type": "execute_result"
    },
    {
     "data": {
      "image/png": "[encoded data removed]",
      "text/plain": [
       "<Figure size 432x288 with 1 Axes>"
      ]
     },
     "metadata": {
      "needs_background": "light"
     },
     "output_type": "display_data"
    }
   ],
   "source": [
    "# plot the loss results\n",
    "sns.lineplot(data=history.history['loss'], label='train mse')\n",
    "sns.lineplot(data=history.history['val_loss'], label='valid mse')\n",
    "sns.lineplot(data=history.history['last_step_mse'], label='last step mse')\n",
    "plt.title('Loss results for SXP prediction model')\n",
    "plt.xlabel('Epoch')\n",
    "plt.ylabel('Loss')\n",
    "plt.ylim(0, 0.001)"
   ]
  },
  {
   "cell_type": "code",
   "execution_count": 48,
   "id": "false-tongue",
   "metadata": {},
   "outputs": [],
   "source": [
    "# test the model\n",
    "prediction = model.predict(X_test)\n",
    "price = scaler.inverse_transform(prediction)[0][0]"
   ]
  },
  {
   "cell_type": "code",
   "execution_count": 57,
   "id": "danish-repair",
   "metadata": {},
   "outputs": [
    {
     "data": {
      "text/plain": [
       "'The prediction price is 4608.45 while the true price is 4567.0'"
      ]
     },
     "execution_count": 57,
     "metadata": {},
     "output_type": "execute_result"
    }
   ],
   "source": [
    "f'The prediction price is {price:2.2f} while the true price is {scaler.inverse_transform(y_test)[0][0]}'"
   ]
  },
  {
   "cell_type": "code",
   "execution_count": 61,
   "id": "knowing-malawi",
   "metadata": {},
   "outputs": [
    {
     "data": {
      "text/plain": [
       "'The previous price is 4655.27'"
      ]
     },
     "execution_count": 61,
     "metadata": {},
     "output_type": "execute_result"
    }
   ],
   "source": [
    "f'The previous price is {spx_1d_data.close[-2]:2.2f}'"
   ]
  },
  {
   "cell_type": "code",
   "execution_count": 62,
   "id": "drawn-title",
   "metadata": {},
   "outputs": [],
   "source": [
    "# model has to be tested on bigger test set to consider it as a promising"
   ]
  }
 ],
 "metadata": {
  "kernelspec": {
   "display_name": "Python 3",
   "language": "python",
   "name": "python3"
  },
  "language_info": {
   "codemirror_mode": {
    "name": "ipython",
    "version": 3
   },
   "file_extension": ".py",
   "mimetype": "text/x-python",
   "name": "python",
   "nbconvert_exporter": "python",
   "pygments_lexer": "ipython3",
   "version": "3.7.6"
  }
 },
 "nbformat": 4,
 "nbformat_minor": 5
}
