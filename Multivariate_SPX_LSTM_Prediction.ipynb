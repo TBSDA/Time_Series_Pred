{
 "cells": [
  {
   "cell_type": "markdown",
   "id": "passing-circulation",
   "metadata": {},
   "source": [
    "# Multivariate SPX LSTM Prediction"
   ]
  },
  {
   "cell_type": "markdown",
   "id": "designing-fitness",
   "metadata": {},
   "source": [
    "Let's predict the BTC price based on close price and RSI using only one LSTM layer"
   ]
  },
  {
   "cell_type": "code",
   "execution_count": 33,
   "id": "foster-default",
   "metadata": {},
   "outputs": [],
   "source": [
    "import tensorflow as tf\n",
    "from tensorflow import keras\n",
    "import pandas as pd\n",
    "import numpy as np\n",
    "import math\n",
    "from keras.layers import LSTM, Dense\n",
    "from sklearn.preprocessing import StandardScaler\n",
    "import matplotlib.pyplot as plt\n",
    "import seaborn as sns\n",
    "from stockstats import StockDataFrame as Sdf"
   ]
  },
  {
   "cell_type": "code",
   "execution_count": 2,
   "id": "present-provider",
   "metadata": {},
   "outputs": [],
   "source": [
    "if not tf.config.list_physical_devices('GPU'):\n",
    "    print(\"No GPU was detected. LSTMs and CNNs can be very slow without a GPU.\")\n",
    "    # if IS_COLAB:\n",
    "    #     print(\"Go to Runtime > Change runtime and select a GPU hardware accelerator.\")\n",
    "devices = tf.config.experimental.list_physical_devices('GPU')\n",
    "tf.config.experimental.set_memory_growth(devices[0], True)"
   ]
  },
  {
   "cell_type": "code",
   "execution_count": 54,
   "id": "fifteen-filename",
   "metadata": {},
   "outputs": [],
   "source": [
    "np.random.seed(24)\n",
    "tf.random.set_seed(24)"
   ]
  },
  {
   "cell_type": "markdown",
   "id": "bearing-consistency",
   "metadata": {},
   "source": [
    "The goal is to get the best prediction for the last value (price)."
   ]
  },
  {
   "cell_type": "code",
   "execution_count": 3,
   "id": "respected-greece",
   "metadata": {},
   "outputs": [],
   "source": [
    "def last_step_mse(y_true, y_pred):\n",
    "    return keras.metrics.mean_squared_error(y_true[-1], y_pred[-1])"
   ]
  },
  {
   "cell_type": "markdown",
   "id": "sophisticated-cloud",
   "metadata": {},
   "source": [
    "Split dataset to multivariate samples."
   ]
  },
  {
   "cell_type": "code",
   "execution_count": 4,
   "id": "placed-burke",
   "metadata": {},
   "outputs": [],
   "source": [
    "def split_sequence(sequence, n_steps):\n",
    "    X, y = [], []\n",
    "    for i in range(sequence.shape[0]):\n",
    "        end_x_seq = i + n_steps\n",
    "        # break if there is no enough data to add new X and y seqs\n",
    "        if end_x_seq >= sequence.shape[0]:\n",
    "            break\n",
    "        # take and collet data sequences\n",
    "        seq_X, seq_y = sequence[i:end_x_seq], sequence[end_x_seq, 0] \n",
    "        X.append(seq_X)\n",
    "        y.append(seq_y)\n",
    "    return np.array(X), np.array(y)"
   ]
  },
  {
   "cell_type": "markdown",
   "id": "pretty-february",
   "metadata": {},
   "source": [
    "Data initialisation and clearing the table."
   ]
  },
  {
   "cell_type": "code",
   "execution_count": 5,
   "id": "million-interpretation",
   "metadata": {},
   "outputs": [],
   "source": [
    "def init_data(file_name):\n",
    "    data = pd.read_csv('Data/'+file_name)\n",
    "    data = data.set_index('Date')\n",
    "    data.index = pd.to_datetime(data.index)\n",
    "    return data\n",
    "\n",
    "def clear_columns(pd):\n",
    "    return pd.drop([\"high\", \"low\", \"open\", \"volume\",\n",
    "                    \"Adj Close\"], axis=1)"
   ]
  },
  {
   "cell_type": "markdown",
   "id": "medical-universal",
   "metadata": {},
   "source": [
    "Data verification function."
   ]
  },
  {
   "cell_type": "code",
   "execution_count": 16,
   "id": "amateur-bidder",
   "metadata": {},
   "outputs": [],
   "source": [
    "def check_data(df):\n",
    "    print('====head=====')\n",
    "    print(df.head())\n",
    "    print('====describe=====')\n",
    "    print(df.describe())\n",
    "    print('====info=====')\n",
    "    print(df.info())\n",
    "    print('====shape=====')\n",
    "    print(df.shape)\n",
    "    print('====quantity of null=====')\n",
    "    print(df.isnull().sum())\n",
    "    print('====quantity of na=====')\n",
    "    print(df.isna().sum())\n",
    "    print('====all nan rows if any=====')\n",
    "    print(df[df.isna().any(axis=1)])\n",
    "    print('====inf values=====')\n",
    "    print(np.isinf(df).any())\n",
    "    print('====0s values=====')\n",
    "    print((df == 0).sum(axis=1).any())\n",
    "    # (df == 0).astype(int).sum(axis=1)"
   ]
  },
  {
   "cell_type": "markdown",
   "id": "significant-driving",
   "metadata": {},
   "source": [
    "Load the BTC data."
   ]
  },
  {
   "cell_type": "code",
   "execution_count": 13,
   "id": "varied-activation",
   "metadata": {},
   "outputs": [],
   "source": [
    "spx_1d_data = init_data('SPX_71_21.csv')\n",
    "spx_1d_data = clear_columns(spx_1d_data)"
   ]
  },
  {
   "cell_type": "markdown",
   "id": "large-variation",
   "metadata": {},
   "source": [
    "Check data."
   ]
  },
  {
   "cell_type": "code",
   "execution_count": 17,
   "id": "theoretical-compiler",
   "metadata": {},
   "outputs": [
    {
     "name": "stdout",
     "output_type": "stream",
     "text": [
      "====head=====\n",
      "                close\n",
      "Date                 \n",
      "1971-01-04  91.150002\n",
      "1971-01-05  91.800003\n",
      "1971-01-06  92.349998\n",
      "1971-01-07  92.379997\n",
      "1971-01-08  92.190002\n",
      "====describe=====\n",
      "              close\n",
      "count  12842.000000\n",
      "mean     941.332879\n",
      "std      929.300562\n",
      "min       62.279999\n",
      "25%      158.764999\n",
      "50%      655.595001\n",
      "75%     1339.625031\n",
      "max     4704.540039\n",
      "====info=====\n",
      "<class 'pandas.core.frame.DataFrame'>\n",
      "DatetimeIndex: 12842 entries, 1971-01-04 to 2021-11-21\n",
      "Data columns (total 1 columns):\n",
      " #   Column  Non-Null Count  Dtype  \n",
      "---  ------  --------------  -----  \n",
      " 0   close   12842 non-null  float64\n",
      "dtypes: float64(1)\n",
      "memory usage: 200.7 KB\n",
      "None\n",
      "====shape=====\n",
      "(12842, 1)\n",
      "====quantity of null=====\n",
      "close    0\n",
      "dtype: int64\n",
      "====quantity of na=====\n",
      "close    0\n",
      "dtype: int64\n",
      "====all nan rows if any=====\n",
      "Empty DataFrame\n",
      "Columns: [close]\n",
      "Index: []\n",
      "====inf values=====\n",
      "close    False\n",
      "dtype: bool\n",
      "====0s values=====\n",
      "False\n"
     ]
    }
   ],
   "source": [
    "check_data(spx_1d_data)"
   ]
  },
  {
   "cell_type": "markdown",
   "id": "exciting-hygiene",
   "metadata": {},
   "source": [
    "Let's use stockstats lib to calculate the RSI."
   ]
  },
  {
   "cell_type": "code",
   "execution_count": 18,
   "id": "phantom-fight",
   "metadata": {},
   "outputs": [],
   "source": [
    "stock = Sdf.retype(spx_1d_data)"
   ]
  },
  {
   "cell_type": "code",
   "execution_count": 19,
   "id": "fantastic-enzyme",
   "metadata": {},
   "outputs": [],
   "source": [
    "rsi = stock['rsi_14'] "
   ]
  },
  {
   "cell_type": "code",
   "execution_count": 20,
   "id": "alien-casino",
   "metadata": {},
   "outputs": [
    {
     "data": {
      "text/plain": [
       "Date\n",
       "1971-01-04           NaN\n",
       "1971-01-05    100.000000\n",
       "1971-01-06    100.000000\n",
       "1971-01-07    100.000000\n",
       "1971-01-08     84.330443\n",
       "                 ...    \n",
       "2021-11-17     64.256314\n",
       "2021-11-18     65.867482\n",
       "2021-11-19     44.444680\n",
       "2021-11-20     53.658803\n",
       "2021-11-21     42.587913\n",
       "Name: rsi_14, Length: 12842, dtype: float64"
      ]
     },
     "execution_count": 20,
     "metadata": {},
     "output_type": "execute_result"
    }
   ],
   "source": [
    "rsi"
   ]
  },
  {
   "cell_type": "markdown",
   "id": "curious-canada",
   "metadata": {},
   "source": [
    "Updated DataFrame."
   ]
  },
  {
   "cell_type": "code",
   "execution_count": 21,
   "id": "infectious-beginning",
   "metadata": {},
   "outputs": [
    {
     "data": {
      "text/html": [
       "<div>\n",
       "<style scoped>\n",
       "    .dataframe tbody tr th:only-of-type {\n",
       "        vertical-align: middle;\n",
       "    }\n",
       "\n",
       "    .dataframe tbody tr th {\n",
       "        vertical-align: top;\n",
       "    }\n",
       "\n",
       "    .dataframe thead th {\n",
       "        text-align: right;\n",
       "    }\n",
       "</style>\n",
       "<table border=\"1\" class=\"dataframe\">\n",
       "  <thead>\n",
       "    <tr style=\"text-align: right;\">\n",
       "      <th></th>\n",
       "      <th>close</th>\n",
       "      <th>close_-1_s</th>\n",
       "      <th>close_-1_d</th>\n",
       "      <th>closepm</th>\n",
       "      <th>closenm</th>\n",
       "      <th>closepm_14_smma</th>\n",
       "      <th>closenm_14_smma</th>\n",
       "      <th>rs_14</th>\n",
       "      <th>rsi_14</th>\n",
       "    </tr>\n",
       "    <tr>\n",
       "      <th>Date</th>\n",
       "      <th></th>\n",
       "      <th></th>\n",
       "      <th></th>\n",
       "      <th></th>\n",
       "      <th></th>\n",
       "      <th></th>\n",
       "      <th></th>\n",
       "      <th></th>\n",
       "      <th></th>\n",
       "    </tr>\n",
       "  </thead>\n",
       "  <tbody>\n",
       "    <tr>\n",
       "      <th>1971-01-04</th>\n",
       "      <td>91.150002</td>\n",
       "      <td>NaN</td>\n",
       "      <td>NaN</td>\n",
       "      <td>NaN</td>\n",
       "      <td>NaN</td>\n",
       "      <td>NaN</td>\n",
       "      <td>NaN</td>\n",
       "      <td>NaN</td>\n",
       "      <td>NaN</td>\n",
       "    </tr>\n",
       "    <tr>\n",
       "      <th>1971-01-05</th>\n",
       "      <td>91.800003</td>\n",
       "      <td>91.150002</td>\n",
       "      <td>0.650002</td>\n",
       "      <td>0.650002</td>\n",
       "      <td>0.000000</td>\n",
       "      <td>0.650002</td>\n",
       "      <td>0.000000</td>\n",
       "      <td>inf</td>\n",
       "      <td>100.000000</td>\n",
       "    </tr>\n",
       "    <tr>\n",
       "      <th>1971-01-06</th>\n",
       "      <td>92.349998</td>\n",
       "      <td>91.800003</td>\n",
       "      <td>0.549995</td>\n",
       "      <td>0.549995</td>\n",
       "      <td>0.000000</td>\n",
       "      <td>0.598147</td>\n",
       "      <td>0.000000</td>\n",
       "      <td>inf</td>\n",
       "      <td>100.000000</td>\n",
       "    </tr>\n",
       "    <tr>\n",
       "      <th>1971-01-07</th>\n",
       "      <td>92.379997</td>\n",
       "      <td>92.349998</td>\n",
       "      <td>0.029999</td>\n",
       "      <td>0.029999</td>\n",
       "      <td>0.000000</td>\n",
       "      <td>0.394569</td>\n",
       "      <td>0.000000</td>\n",
       "      <td>inf</td>\n",
       "      <td>100.000000</td>\n",
       "    </tr>\n",
       "    <tr>\n",
       "      <th>1971-01-08</th>\n",
       "      <td>92.190002</td>\n",
       "      <td>92.379997</td>\n",
       "      <td>-0.189995</td>\n",
       "      <td>0.000000</td>\n",
       "      <td>0.189995</td>\n",
       "      <td>0.284706</td>\n",
       "      <td>0.052902</td>\n",
       "      <td>5.381801</td>\n",
       "      <td>84.330443</td>\n",
       "    </tr>\n",
       "    <tr>\n",
       "      <th>...</th>\n",
       "      <td>...</td>\n",
       "      <td>...</td>\n",
       "      <td>...</td>\n",
       "      <td>...</td>\n",
       "      <td>...</td>\n",
       "      <td>...</td>\n",
       "      <td>...</td>\n",
       "      <td>...</td>\n",
       "      <td>...</td>\n",
       "    </tr>\n",
       "    <tr>\n",
       "      <th>2021-11-17</th>\n",
       "      <td>4690.700195</td>\n",
       "      <td>4682.939941</td>\n",
       "      <td>7.760254</td>\n",
       "      <td>7.760254</td>\n",
       "      <td>0.000000</td>\n",
       "      <td>11.266860</td>\n",
       "      <td>6.267385</td>\n",
       "      <td>1.797697</td>\n",
       "      <td>64.256314</td>\n",
       "    </tr>\n",
       "    <tr>\n",
       "      <th>2021-11-18</th>\n",
       "      <td>4701.459961</td>\n",
       "      <td>4690.700195</td>\n",
       "      <td>10.759766</td>\n",
       "      <td>10.759766</td>\n",
       "      <td>0.000000</td>\n",
       "      <td>11.230639</td>\n",
       "      <td>5.819715</td>\n",
       "      <td>1.929757</td>\n",
       "      <td>65.867482</td>\n",
       "    </tr>\n",
       "    <tr>\n",
       "      <th>2021-11-19</th>\n",
       "      <td>4594.620117</td>\n",
       "      <td>4701.459961</td>\n",
       "      <td>-106.839844</td>\n",
       "      <td>0.000000</td>\n",
       "      <td>106.839844</td>\n",
       "      <td>10.428450</td>\n",
       "      <td>13.035439</td>\n",
       "      <td>0.800008</td>\n",
       "      <td>44.444680</td>\n",
       "    </tr>\n",
       "    <tr>\n",
       "      <th>2021-11-20</th>\n",
       "      <td>4655.270020</td>\n",
       "      <td>4594.620117</td>\n",
       "      <td>60.649902</td>\n",
       "      <td>60.649902</td>\n",
       "      <td>0.000000</td>\n",
       "      <td>14.015697</td>\n",
       "      <td>12.104336</td>\n",
       "      <td>1.157907</td>\n",
       "      <td>53.658803</td>\n",
       "    </tr>\n",
       "    <tr>\n",
       "      <th>2021-11-21</th>\n",
       "      <td>4567.000000</td>\n",
       "      <td>4655.270020</td>\n",
       "      <td>-88.270020</td>\n",
       "      <td>0.000000</td>\n",
       "      <td>88.270020</td>\n",
       "      <td>13.014576</td>\n",
       "      <td>17.544742</td>\n",
       "      <td>0.741794</td>\n",
       "      <td>42.587913</td>\n",
       "    </tr>\n",
       "  </tbody>\n",
       "</table>\n",
       "<p>12842 rows × 9 columns</p>\n",
       "</div>"
      ],
      "text/plain": [
       "                  close   close_-1_s  close_-1_d    closepm     closenm  \\\n",
       "Date                                                                      \n",
       "1971-01-04    91.150002          NaN         NaN        NaN         NaN   \n",
       "1971-01-05    91.800003    91.150002    0.650002   0.650002    0.000000   \n",
       "1971-01-06    92.349998    91.800003    0.549995   0.549995    0.000000   \n",
       "1971-01-07    92.379997    92.349998    0.029999   0.029999    0.000000   \n",
       "1971-01-08    92.190002    92.379997   -0.189995   0.000000    0.189995   \n",
       "...                 ...          ...         ...        ...         ...   \n",
       "2021-11-17  4690.700195  4682.939941    7.760254   7.760254    0.000000   \n",
       "2021-11-18  4701.459961  4690.700195   10.759766  10.759766    0.000000   \n",
       "2021-11-19  4594.620117  4701.459961 -106.839844   0.000000  106.839844   \n",
       "2021-11-20  4655.270020  4594.620117   60.649902  60.649902    0.000000   \n",
       "2021-11-21  4567.000000  4655.270020  -88.270020   0.000000   88.270020   \n",
       "\n",
       "            closepm_14_smma  closenm_14_smma     rs_14      rsi_14  \n",
       "Date                                                                \n",
       "1971-01-04              NaN              NaN       NaN         NaN  \n",
       "1971-01-05         0.650002         0.000000       inf  100.000000  \n",
       "1971-01-06         0.598147         0.000000       inf  100.000000  \n",
       "1971-01-07         0.394569         0.000000       inf  100.000000  \n",
       "1971-01-08         0.284706         0.052902  5.381801   84.330443  \n",
       "...                     ...              ...       ...         ...  \n",
       "2021-11-17        11.266860         6.267385  1.797697   64.256314  \n",
       "2021-11-18        11.230639         5.819715  1.929757   65.867482  \n",
       "2021-11-19        10.428450        13.035439  0.800008   44.444680  \n",
       "2021-11-20        14.015697        12.104336  1.157907   53.658803  \n",
       "2021-11-21        13.014576        17.544742  0.741794   42.587913  \n",
       "\n",
       "[12842 rows x 9 columns]"
      ]
     },
     "execution_count": 21,
     "metadata": {},
     "output_type": "execute_result"
    }
   ],
   "source": [
    "spx_1d_data"
   ]
  },
  {
   "cell_type": "markdown",
   "id": "interpreted-feelings",
   "metadata": {},
   "source": [
    "Let's keep only close price and rsi_14."
   ]
  },
  {
   "cell_type": "code",
   "execution_count": 23,
   "id": "graphic-forest",
   "metadata": {},
   "outputs": [],
   "source": [
    "spx_1d_data = spx_1d_data[['close', 'rsi_14']]"
   ]
  },
  {
   "cell_type": "code",
   "execution_count": 25,
   "id": "broke-nicaragua",
   "metadata": {},
   "outputs": [
    {
     "data": {
      "text/html": [
       "<div>\n",
       "<style scoped>\n",
       "    .dataframe tbody tr th:only-of-type {\n",
       "        vertical-align: middle;\n",
       "    }\n",
       "\n",
       "    .dataframe tbody tr th {\n",
       "        vertical-align: top;\n",
       "    }\n",
       "\n",
       "    .dataframe thead th {\n",
       "        text-align: right;\n",
       "    }\n",
       "</style>\n",
       "<table border=\"1\" class=\"dataframe\">\n",
       "  <thead>\n",
       "    <tr style=\"text-align: right;\">\n",
       "      <th></th>\n",
       "      <th>close</th>\n",
       "      <th>rsi_14</th>\n",
       "    </tr>\n",
       "    <tr>\n",
       "      <th>Date</th>\n",
       "      <th></th>\n",
       "      <th></th>\n",
       "    </tr>\n",
       "  </thead>\n",
       "  <tbody>\n",
       "    <tr>\n",
       "      <th>1971-01-04</th>\n",
       "      <td>91.150002</td>\n",
       "      <td>NaN</td>\n",
       "    </tr>\n",
       "    <tr>\n",
       "      <th>1971-01-05</th>\n",
       "      <td>91.800003</td>\n",
       "      <td>100.000000</td>\n",
       "    </tr>\n",
       "    <tr>\n",
       "      <th>1971-01-06</th>\n",
       "      <td>92.349998</td>\n",
       "      <td>100.000000</td>\n",
       "    </tr>\n",
       "    <tr>\n",
       "      <th>1971-01-07</th>\n",
       "      <td>92.379997</td>\n",
       "      <td>100.000000</td>\n",
       "    </tr>\n",
       "    <tr>\n",
       "      <th>1971-01-08</th>\n",
       "      <td>92.190002</td>\n",
       "      <td>84.330443</td>\n",
       "    </tr>\n",
       "    <tr>\n",
       "      <th>1971-01-11</th>\n",
       "      <td>91.980003</td>\n",
       "      <td>71.073980</td>\n",
       "    </tr>\n",
       "    <tr>\n",
       "      <th>1971-01-12</th>\n",
       "      <td>92.720001</td>\n",
       "      <td>81.882080</td>\n",
       "    </tr>\n",
       "    <tr>\n",
       "      <th>1971-01-13</th>\n",
       "      <td>92.559998</td>\n",
       "      <td>75.328146</td>\n",
       "    </tr>\n",
       "    <tr>\n",
       "      <th>1971-01-14</th>\n",
       "      <td>92.800003</td>\n",
       "      <td>78.152913</td>\n",
       "    </tr>\n",
       "    <tr>\n",
       "      <th>1971-01-15</th>\n",
       "      <td>93.029999</td>\n",
       "      <td>80.461544</td>\n",
       "    </tr>\n",
       "  </tbody>\n",
       "</table>\n",
       "</div>"
      ],
      "text/plain": [
       "                close      rsi_14\n",
       "Date                             \n",
       "1971-01-04  91.150002         NaN\n",
       "1971-01-05  91.800003  100.000000\n",
       "1971-01-06  92.349998  100.000000\n",
       "1971-01-07  92.379997  100.000000\n",
       "1971-01-08  92.190002   84.330443\n",
       "1971-01-11  91.980003   71.073980\n",
       "1971-01-12  92.720001   81.882080\n",
       "1971-01-13  92.559998   75.328146\n",
       "1971-01-14  92.800003   78.152913\n",
       "1971-01-15  93.029999   80.461544"
      ]
     },
     "execution_count": 25,
     "metadata": {},
     "output_type": "execute_result"
    }
   ],
   "source": [
    "spx_1d_data[:10]"
   ]
  },
  {
   "cell_type": "markdown",
   "id": "centered-albany",
   "metadata": {},
   "source": [
    "Drop four fisrt rows."
   ]
  },
  {
   "cell_type": "code",
   "execution_count": 26,
   "id": "sharing-transport",
   "metadata": {},
   "outputs": [],
   "source": [
    "spx_1d_data = spx_1d_data[4:]"
   ]
  },
  {
   "cell_type": "code",
   "execution_count": 27,
   "id": "blond-projection",
   "metadata": {},
   "outputs": [
    {
     "data": {
      "text/html": [
       "<div>\n",
       "<style scoped>\n",
       "    .dataframe tbody tr th:only-of-type {\n",
       "        vertical-align: middle;\n",
       "    }\n",
       "\n",
       "    .dataframe tbody tr th {\n",
       "        vertical-align: top;\n",
       "    }\n",
       "\n",
       "    .dataframe thead th {\n",
       "        text-align: right;\n",
       "    }\n",
       "</style>\n",
       "<table border=\"1\" class=\"dataframe\">\n",
       "  <thead>\n",
       "    <tr style=\"text-align: right;\">\n",
       "      <th></th>\n",
       "      <th>close</th>\n",
       "      <th>rsi_14</th>\n",
       "    </tr>\n",
       "    <tr>\n",
       "      <th>Date</th>\n",
       "      <th></th>\n",
       "      <th></th>\n",
       "    </tr>\n",
       "  </thead>\n",
       "  <tbody>\n",
       "    <tr>\n",
       "      <th>1971-01-08</th>\n",
       "      <td>92.190002</td>\n",
       "      <td>84.330443</td>\n",
       "    </tr>\n",
       "    <tr>\n",
       "      <th>1971-01-11</th>\n",
       "      <td>91.980003</td>\n",
       "      <td>71.073980</td>\n",
       "    </tr>\n",
       "    <tr>\n",
       "      <th>1971-01-12</th>\n",
       "      <td>92.720001</td>\n",
       "      <td>81.882080</td>\n",
       "    </tr>\n",
       "    <tr>\n",
       "      <th>1971-01-13</th>\n",
       "      <td>92.559998</td>\n",
       "      <td>75.328146</td>\n",
       "    </tr>\n",
       "    <tr>\n",
       "      <th>1971-01-14</th>\n",
       "      <td>92.800003</td>\n",
       "      <td>78.152913</td>\n",
       "    </tr>\n",
       "    <tr>\n",
       "      <th>1971-01-15</th>\n",
       "      <td>93.029999</td>\n",
       "      <td>80.461544</td>\n",
       "    </tr>\n",
       "    <tr>\n",
       "      <th>1971-01-18</th>\n",
       "      <td>93.410004</td>\n",
       "      <td>83.553831</td>\n",
       "    </tr>\n",
       "    <tr>\n",
       "      <th>1971-01-19</th>\n",
       "      <td>93.760002</td>\n",
       "      <td>85.785291</td>\n",
       "    </tr>\n",
       "    <tr>\n",
       "      <th>1971-01-20</th>\n",
       "      <td>93.779999</td>\n",
       "      <td>85.902977</td>\n",
       "    </tr>\n",
       "    <tr>\n",
       "      <th>1971-01-21</th>\n",
       "      <td>94.190002</td>\n",
       "      <td>88.081773</td>\n",
       "    </tr>\n",
       "  </tbody>\n",
       "</table>\n",
       "</div>"
      ],
      "text/plain": [
       "                close     rsi_14\n",
       "Date                            \n",
       "1971-01-08  92.190002  84.330443\n",
       "1971-01-11  91.980003  71.073980\n",
       "1971-01-12  92.720001  81.882080\n",
       "1971-01-13  92.559998  75.328146\n",
       "1971-01-14  92.800003  78.152913\n",
       "1971-01-15  93.029999  80.461544\n",
       "1971-01-18  93.410004  83.553831\n",
       "1971-01-19  93.760002  85.785291\n",
       "1971-01-20  93.779999  85.902977\n",
       "1971-01-21  94.190002  88.081773"
      ]
     },
     "execution_count": 27,
     "metadata": {},
     "output_type": "execute_result"
    }
   ],
   "source": [
    "spx_1d_data[:10]"
   ]
  },
  {
   "cell_type": "markdown",
   "id": "hydraulic-carol",
   "metadata": {},
   "source": [
    "There are two different scales so to perform the prediction the standardization of the data is needed."
   ]
  },
  {
   "cell_type": "code",
   "execution_count": 65,
   "id": "linear-preserve",
   "metadata": {},
   "outputs": [],
   "source": [
    "scaler = StandardScaler()"
   ]
  },
  {
   "cell_type": "code",
   "execution_count": 66,
   "id": "detailed-privacy",
   "metadata": {},
   "outputs": [],
   "source": [
    "spx_scaled = scaler.fit_transform(spx_1d_data.values)"
   ]
  },
  {
   "cell_type": "code",
   "execution_count": 67,
   "id": "cross-limitation",
   "metadata": {},
   "outputs": [
    {
     "data": {
      "text/plain": [
       "array([[-0.91404107,  2.52488367],\n",
       "       [-0.91426704,  1.42790264],\n",
       "       [-0.91347074,  2.32228003],\n",
       "       ...,\n",
       "       [ 3.93099016, -0.77568935],\n",
       "       [ 3.99625507, -0.01321464],\n",
       "       [ 3.90126836, -0.92933798]])"
      ]
     },
     "execution_count": 67,
     "metadata": {},
     "output_type": "execute_result"
    }
   ],
   "source": [
    "spx_scaled"
   ]
  },
  {
   "cell_type": "code",
   "execution_count": 68,
   "id": "configured-composer",
   "metadata": {},
   "outputs": [
    {
     "data": {
      "text/plain": [
       "True"
      ]
     },
     "execution_count": 68,
     "metadata": {},
     "output_type": "execute_result"
    }
   ],
   "source": [
    "spx_scaled.shape == spx_1d_data.shape"
   ]
  },
  {
   "cell_type": "markdown",
   "id": "consecutive-video",
   "metadata": {},
   "source": [
    "Split data to train, val and test set."
   ]
  },
  {
   "cell_type": "code",
   "execution_count": 34,
   "id": "dimensional-turkey",
   "metadata": {},
   "outputs": [],
   "source": [
    "test_size = 33 # let's leave 33 sessions for testing\n",
    "seq_length = 32\n",
    "dataset_size = spx_scaled.shape[0]\n",
    "X_train, y_train = split_sequence(spx_scaled[0: math.ceil(0.7 * dataset_size)], seq_length)\n",
    "X_val, y_val = split_sequence(spx_scaled[math.floor(0.7 * dataset_size):-test_size], seq_length)\n",
    "X_test, y_test = split_sequence(spx_scaled[-test_size:], seq_length)"
   ]
  },
  {
   "cell_type": "markdown",
   "id": "dress-vienna",
   "metadata": {},
   "source": [
    "Verify the sets."
   ]
  },
  {
   "cell_type": "code",
   "execution_count": 35,
   "id": "mysterious-brave",
   "metadata": {},
   "outputs": [
    {
     "name": "stdout",
     "output_type": "stream",
     "text": [
      "X_train shape is: (8955, 32, 2)\n",
      "y_train shape is: (8955,)\n",
      "X_val shape is: (3787, 32, 2)\n",
      "y_val shape is: (3787,)\n",
      "X_test shape is: (1, 32, 2)\n",
      "y_test shape is: (1,)\n"
     ]
    }
   ],
   "source": [
    "print(f'X_train shape is: {X_train.shape}')\n",
    "print(f'y_train shape is: {y_train.shape}')\n",
    "print(f'X_val shape is: {X_val.shape}')\n",
    "print(f'y_val shape is: {y_val.shape}')\n",
    "print(f'X_test shape is: {X_test.shape}')\n",
    "print(f'y_test shape is: {y_test.shape}')"
   ]
  },
  {
   "cell_type": "markdown",
   "id": "excessive-finger",
   "metadata": {},
   "source": [
    "Standard model parameters."
   ]
  },
  {
   "cell_type": "code",
   "execution_count": 95,
   "id": "outside-ticket",
   "metadata": {},
   "outputs": [],
   "source": [
    "n_steps = X_train.shape[-2]\n",
    "n_features = X_train.shape[-1]\n",
    "epochs = 64"
   ]
  },
  {
   "cell_type": "markdown",
   "id": "athletic-doubt",
   "metadata": {},
   "source": [
    "Simple RNN model. "
   ]
  },
  {
   "cell_type": "code",
   "execution_count": 96,
   "id": "touched-meeting",
   "metadata": {},
   "outputs": [
    {
     "name": "stdout",
     "output_type": "stream",
     "text": [
      "Epoch 1/64\n",
      "280/280 [==============================] - 3s 12ms/step - loss: 0.0060 - last_step_mse: 0.0060 - val_loss: 0.0619 - val_last_step_mse: 0.0675\n",
      "Epoch 2/64\n",
      "280/280 [==============================] - 3s 11ms/step - loss: 1.6647e-04 - last_step_mse: 1.2229e-04 - val_loss: 0.0537 - val_last_step_mse: 0.0581\n",
      "Epoch 3/64\n",
      "280/280 [==============================] - 3s 11ms/step - loss: 1.5506e-04 - last_step_mse: 6.7776e-05 - val_loss: 0.0417 - val_last_step_mse: 0.0449\n",
      "Epoch 4/64\n",
      "280/280 [==============================] - 3s 11ms/step - loss: 1.4640e-04 - last_step_mse: 1.1288e-04 - val_loss: 0.0325 - val_last_step_mse: 0.0348\n",
      "Epoch 5/64\n",
      "280/280 [==============================] - 3s 11ms/step - loss: 1.5145e-04 - last_step_mse: 8.8549e-05 - val_loss: 0.0310 - val_last_step_mse: 0.0329\n",
      "Epoch 6/64\n",
      "280/280 [==============================] - 3s 11ms/step - loss: 1.4028e-04 - last_step_mse: 1.0305e-04 - val_loss: 0.0238 - val_last_step_mse: 0.0251\n",
      "Epoch 7/64\n",
      "280/280 [==============================] - 3s 11ms/step - loss: 1.3673e-04 - last_step_mse: 9.2948e-05 - val_loss: 0.0161 - val_last_step_mse: 0.0172\n",
      "Epoch 8/64\n",
      "280/280 [==============================] - 3s 11ms/step - loss: 1.3703e-04 - last_step_mse: 8.2178e-05 - val_loss: 0.0088 - val_last_step_mse: 0.0094\n",
      "Epoch 9/64\n",
      "280/280 [==============================] - 3s 11ms/step - loss: 1.3908e-04 - last_step_mse: 1.0711e-04 - val_loss: 0.0123 - val_last_step_mse: 0.0126\n",
      "Epoch 10/64\n",
      "280/280 [==============================] - 3s 11ms/step - loss: 1.4598e-04 - last_step_mse: 1.0288e-04 - val_loss: 0.0095 - val_last_step_mse: 0.0101\n",
      "Epoch 11/64\n",
      "280/280 [==============================] - 3s 11ms/step - loss: 1.2507e-04 - last_step_mse: 8.6009e-05 - val_loss: 0.0120 - val_last_step_mse: 0.0126\n",
      "Epoch 12/64\n",
      "280/280 [==============================] - 3s 11ms/step - loss: 1.4099e-04 - last_step_mse: 1.1395e-04 - val_loss: 0.0067 - val_last_step_mse: 0.0071\n",
      "Epoch 13/64\n",
      "280/280 [==============================] - 3s 11ms/step - loss: 1.2554e-04 - last_step_mse: 8.1738e-05 - val_loss: 0.0085 - val_last_step_mse: 0.0089\n",
      "Epoch 14/64\n",
      "280/280 [==============================] - 3s 11ms/step - loss: 1.2224e-04 - last_step_mse: 7.7743e-05 - val_loss: 0.0053 - val_last_step_mse: 0.0055\n",
      "Epoch 15/64\n",
      "280/280 [==============================] - 3s 11ms/step - loss: 1.1804e-04 - last_step_mse: 9.8839e-05 - val_loss: 0.0033 - val_last_step_mse: 0.0034\n",
      "Epoch 16/64\n",
      "280/280 [==============================] - 3s 10ms/step - loss: 1.1429e-04 - last_step_mse: 1.5155e-04 - val_loss: 0.0044 - val_last_step_mse: 0.0046\n",
      "Epoch 17/64\n",
      "280/280 [==============================] - 3s 11ms/step - loss: 1.1847e-04 - last_step_mse: 1.1607e-04 - val_loss: 0.0056 - val_last_step_mse: 0.0057\n",
      "Epoch 18/64\n",
      "280/280 [==============================] - 3s 11ms/step - loss: 1.1468e-04 - last_step_mse: 7.7130e-05 - val_loss: 0.0023 - val_last_step_mse: 0.0024\n",
      "Epoch 19/64\n",
      "280/280 [==============================] - 3s 11ms/step - loss: 1.1252e-04 - last_step_mse: 9.5526e-05 - val_loss: 0.0090 - val_last_step_mse: 0.0094\n",
      "Epoch 20/64\n",
      "280/280 [==============================] - 3s 11ms/step - loss: 1.1146e-04 - last_step_mse: 9.3193e-05 - val_loss: 0.0026 - val_last_step_mse: 0.0027\n",
      "Epoch 21/64\n",
      "280/280 [==============================] - 3s 11ms/step - loss: 1.0752e-04 - last_step_mse: 1.0031e-04 - val_loss: 0.0047 - val_last_step_mse: 0.0048\n",
      "Epoch 22/64\n",
      "280/280 [==============================] - 3s 10ms/step - loss: 1.0679e-04 - last_step_mse: 1.1136e-04 - val_loss: 0.0056 - val_last_step_mse: 0.0058\n",
      "Epoch 23/64\n",
      "280/280 [==============================] - 3s 10ms/step - loss: 1.1097e-04 - last_step_mse: 1.0335e-04 - val_loss: 0.0034 - val_last_step_mse: 0.0034\n",
      "Epoch 24/64\n",
      "280/280 [==============================] - 3s 11ms/step - loss: 1.0565e-04 - last_step_mse: 1.0201e-04 - val_loss: 0.0050 - val_last_step_mse: 0.0051\n",
      "Epoch 25/64\n",
      "280/280 [==============================] - 3s 11ms/step - loss: 9.8358e-05 - last_step_mse: 6.5499e-05 - val_loss: 0.0044 - val_last_step_mse: 0.0046\n",
      "Epoch 26/64\n",
      "280/280 [==============================] - 3s 10ms/step - loss: 9.9910e-05 - last_step_mse: 9.6239e-05 - val_loss: 0.0041 - val_last_step_mse: 0.0042\n",
      "Epoch 27/64\n",
      "280/280 [==============================] - 3s 10ms/step - loss: 1.0311e-04 - last_step_mse: 7.3105e-05 - val_loss: 0.0051 - val_last_step_mse: 0.0053\n",
      "Epoch 28/64\n",
      "280/280 [==============================] - 3s 11ms/step - loss: 9.7457e-05 - last_step_mse: 7.5687e-05 - val_loss: 0.0033 - val_last_step_mse: 0.0034\n",
      "Epoch 29/64\n",
      "280/280 [==============================] - 3s 10ms/step - loss: 9.5422e-05 - last_step_mse: 1.0830e-04 - val_loss: 0.0014 - val_last_step_mse: 0.0015\n",
      "Epoch 30/64\n",
      "280/280 [==============================] - 3s 11ms/step - loss: 8.9429e-05 - last_step_mse: 9.1684e-05 - val_loss: 0.0041 - val_last_step_mse: 0.0042\n",
      "Epoch 31/64\n",
      "280/280 [==============================] - 3s 11ms/step - loss: 9.8723e-05 - last_step_mse: 7.7688e-05 - val_loss: 0.0022 - val_last_step_mse: 0.0023\n",
      "Epoch 32/64\n",
      "280/280 [==============================] - 3s 11ms/step - loss: 9.3999e-05 - last_step_mse: 8.7245e-05 - val_loss: 0.0015 - val_last_step_mse: 0.0015\n",
      "Epoch 33/64\n",
      "280/280 [==============================] - 3s 11ms/step - loss: 9.0199e-05 - last_step_mse: 7.7024e-05 - val_loss: 0.0014 - val_last_step_mse: 0.0014\n",
      "Epoch 34/64\n",
      "280/280 [==============================] - 3s 10ms/step - loss: 9.2173e-05 - last_step_mse: 6.5943e-05 - val_loss: 0.0027 - val_last_step_mse: 0.0028\n",
      "Epoch 35/64\n",
      "280/280 [==============================] - 3s 11ms/step - loss: 9.1310e-05 - last_step_mse: 1.0065e-04 - val_loss: 0.0021 - val_last_step_mse: 0.0021\n",
      "Epoch 36/64\n",
      "280/280 [==============================] - 3s 10ms/step - loss: 8.6787e-05 - last_step_mse: 1.0444e-04 - val_loss: 0.0016 - val_last_step_mse: 0.0016\n",
      "Epoch 37/64\n",
      "280/280 [==============================] - 3s 11ms/step - loss: 9.4455e-05 - last_step_mse: 9.9227e-05 - val_loss: 0.0018 - val_last_step_mse: 0.0018\n",
      "Epoch 38/64\n",
      "280/280 [==============================] - 3s 11ms/step - loss: 8.4905e-05 - last_step_mse: 8.9885e-05 - val_loss: 0.0022 - val_last_step_mse: 0.0023\n",
      "Epoch 39/64\n",
      "280/280 [==============================] - 3s 10ms/step - loss: 8.2972e-05 - last_step_mse: 7.1336e-05 - val_loss: 0.0015 - val_last_step_mse: 0.0015\n",
      "Epoch 40/64\n",
      "280/280 [==============================] - 3s 10ms/step - loss: 8.5307e-05 - last_step_mse: 7.4636e-05 - val_loss: 0.0018 - val_last_step_mse: 0.0017\n",
      "Epoch 41/64\n",
      "280/280 [==============================] - 3s 11ms/step - loss: 8.4376e-05 - last_step_mse: 7.5101e-05 - val_loss: 0.0052 - val_last_step_mse: 0.0053\n",
      "Epoch 42/64\n",
      "280/280 [==============================] - 3s 11ms/step - loss: 8.3259e-05 - last_step_mse: 6.7213e-05 - val_loss: 9.0253e-04 - val_last_step_mse: 9.7195e-04\n",
      "Epoch 43/64\n",
      "280/280 [==============================] - 3s 11ms/step - loss: 8.3482e-05 - last_step_mse: 7.2723e-05 - val_loss: 0.0024 - val_last_step_mse: 0.0025\n",
      "Epoch 44/64\n",
      "280/280 [==============================] - 3s 11ms/step - loss: 8.7818e-05 - last_step_mse: 7.9991e-05 - val_loss: 0.0019 - val_last_step_mse: 0.0020\n",
      "Epoch 45/64\n",
      "280/280 [==============================] - 3s 10ms/step - loss: 8.5032e-05 - last_step_mse: 8.9240e-05 - val_loss: 9.1986e-04 - val_last_step_mse: 8.9972e-04\n",
      "Epoch 46/64\n",
      "280/280 [==============================] - 3s 10ms/step - loss: 8.3278e-05 - last_step_mse: 9.2747e-05 - val_loss: 0.0017 - val_last_step_mse: 0.0017\n",
      "Epoch 47/64\n",
      "280/280 [==============================] - 3s 11ms/step - loss: 8.3298e-05 - last_step_mse: 6.1377e-05 - val_loss: 0.0017 - val_last_step_mse: 0.0017\n",
      "Epoch 48/64\n",
      "280/280 [==============================] - 3s 10ms/step - loss: 8.6864e-05 - last_step_mse: 8.5763e-05 - val_loss: 0.0018 - val_last_step_mse: 0.0017\n",
      "Epoch 49/64\n",
      "280/280 [==============================] - 3s 10ms/step - loss: 8.2191e-05 - last_step_mse: 1.0499e-04 - val_loss: 0.0012 - val_last_step_mse: 0.0012\n",
      "Epoch 50/64\n",
      "280/280 [==============================] - 3s 10ms/step - loss: 7.7998e-05 - last_step_mse: 6.6616e-05 - val_loss: 0.0017 - val_last_step_mse: 0.0017\n",
      "Epoch 51/64\n"
     ]
    },
    {
     "name": "stdout",
     "output_type": "stream",
     "text": [
      "280/280 [==============================] - 3s 10ms/step - loss: 7.7897e-05 - last_step_mse: 6.7608e-05 - val_loss: 0.0022 - val_last_step_mse: 0.0021\n",
      "Epoch 52/64\n",
      "280/280 [==============================] - 3s 10ms/step - loss: 7.7763e-05 - last_step_mse: 6.0950e-05 - val_loss: 0.0015 - val_last_step_mse: 0.0015\n",
      "Epoch 53/64\n",
      "280/280 [==============================] - 3s 11ms/step - loss: 8.6414e-05 - last_step_mse: 7.6818e-05 - val_loss: 0.0026 - val_last_step_mse: 0.0026\n",
      "Epoch 54/64\n",
      "280/280 [==============================] - 3s 11ms/step - loss: 7.9567e-05 - last_step_mse: 5.8639e-05 - val_loss: 0.0014 - val_last_step_mse: 0.0013\n",
      "Epoch 55/64\n",
      "280/280 [==============================] - 3s 10ms/step - loss: 7.7371e-05 - last_step_mse: 6.2413e-05 - val_loss: 0.0014 - val_last_step_mse: 0.0013\n",
      "Epoch 56/64\n",
      "280/280 [==============================] - 3s 11ms/step - loss: 7.8958e-05 - last_step_mse: 5.4277e-05 - val_loss: 0.0029 - val_last_step_mse: 0.0029\n",
      "Epoch 57/64\n",
      "280/280 [==============================] - 3s 11ms/step - loss: 7.9669e-05 - last_step_mse: 9.3872e-05 - val_loss: 0.0044 - val_last_step_mse: 0.0043\n",
      "Epoch 58/64\n",
      "280/280 [==============================] - 3s 11ms/step - loss: 8.0901e-05 - last_step_mse: 8.0155e-05 - val_loss: 0.0025 - val_last_step_mse: 0.0023\n",
      "Epoch 59/64\n",
      "280/280 [==============================] - 3s 11ms/step - loss: 7.9699e-05 - last_step_mse: 8.3919e-05 - val_loss: 0.0020 - val_last_step_mse: 0.0019\n",
      "Epoch 60/64\n",
      "280/280 [==============================] - 3s 11ms/step - loss: 7.6468e-05 - last_step_mse: 5.9209e-05 - val_loss: 0.0012 - val_last_step_mse: 0.0011\n",
      "Epoch 61/64\n",
      "280/280 [==============================] - 3s 11ms/step - loss: 8.0418e-05 - last_step_mse: 6.5803e-05 - val_loss: 0.0028 - val_last_step_mse: 0.0028\n",
      "Epoch 62/64\n",
      "280/280 [==============================] - 3s 11ms/step - loss: 7.7714e-05 - last_step_mse: 7.2618e-05 - val_loss: 0.0016 - val_last_step_mse: 0.0016\n",
      "Epoch 63/64\n",
      "280/280 [==============================] - 3s 10ms/step - loss: 7.4893e-05 - last_step_mse: 6.1322e-05 - val_loss: 0.0017 - val_last_step_mse: 0.0016\n",
      "Epoch 64/64\n",
      "280/280 [==============================] - 3s 11ms/step - loss: 7.5787e-05 - last_step_mse: 5.3361e-05 - val_loss: 8.8314e-04 - val_last_step_mse: 8.9135e-04\n"
     ]
    }
   ],
   "source": [
    "# RNN model \n",
    "# hyperparameters to be found by keras tuner\n",
    "model = keras.Sequential()\n",
    "model.add(LSTM(units=200, activation=\"tanh\", \n",
    "               activity_regularizer=keras.regularizers.l2(1e-4),\n",
    "              input_shape=(n_steps, n_features)))\n",
    "model.add(Dense(1))\n",
    "model.compile(optimizer='adam', loss='mse', metrics=[last_step_mse])\n",
    "\n",
    "history = model.fit(X_train, y_train, \n",
    "                    epochs=epochs,\n",
    "                    validation_data=(X_val, y_val)\n",
    "                    )"
   ]
  },
  {
   "cell_type": "markdown",
   "id": "protected-income",
   "metadata": {},
   "source": [
    "Let's check the plot results."
   ]
  },
  {
   "cell_type": "code",
   "execution_count": 97,
   "id": "seventh-aerospace",
   "metadata": {},
   "outputs": [],
   "source": [
    "def plot_loss_results(history):\n",
    "    plt.figure(figsize=(15, 8))\n",
    "    sns.lineplot(data=history.history['loss'], label='train mse')\n",
    "    sns.lineplot(data=history.history['val_loss'], label='valid mse')\n",
    "    sns.lineplot(data=history.history['last_step_mse'], label='last step mse')\n",
    "    sns.lineplot(data=history.history['val_last_step_mse'], label='val last step mse')\n",
    "    plt.title('Loss results for SXP prediction model', size='x-large')\n",
    "    plt.xlabel('Epoch')\n",
    "    plt.ylabel('Loss')\n",
    "    plt.ylim(0, 0.005)"
   ]
  },
  {
   "cell_type": "code",
   "execution_count": 122,
   "id": "entire-swift",
   "metadata": {},
   "outputs": [
    {
     "data": {
      "image/png": "[encoded data removed]",
      "text/plain": [
       "<Figure size 1080x576 with 1 Axes>"
      ]
     },
     "metadata": {
      "needs_background": "light"
     },
     "output_type": "display_data"
    }
   ],
   "source": [
    "plot_loss_results(history)"
   ]
  },
  {
   "cell_type": "markdown",
   "id": "certain-sherman",
   "metadata": {},
   "source": [
    "Test the model."
   ]
  },
  {
   "cell_type": "code",
   "execution_count": 115,
   "id": "public-messaging",
   "metadata": {},
   "outputs": [],
   "source": [
    "prediction = model.predict(X_test)"
   ]
  },
  {
   "cell_type": "markdown",
   "id": "planned-version",
   "metadata": {},
   "source": [
    "The model predict only one value, but in the scaler there are two so let's imitate that there is also the second prediction. That does not matter what there be there because only the first one is important here, second to be ignored."
   ]
  },
  {
   "cell_type": "code",
   "execution_count": 116,
   "id": "unsigned-retail",
   "metadata": {},
   "outputs": [],
   "source": [
    "prediction = np.append(prediction, prediction)"
   ]
  },
  {
   "cell_type": "code",
   "execution_count": 117,
   "id": "regulated-acting",
   "metadata": {},
   "outputs": [
    {
     "data": {
      "text/plain": [
       "array([3.9637756, 3.9637756], dtype=float32)"
      ]
     },
     "execution_count": 117,
     "metadata": {},
     "output_type": "execute_result"
    }
   ],
   "source": [
    "prediction"
   ]
  },
  {
   "cell_type": "code",
   "execution_count": 118,
   "id": "decimal-situation",
   "metadata": {},
   "outputs": [],
   "source": [
    "price = scaler.inverse_transform(prediction)[0]"
   ]
  },
  {
   "cell_type": "code",
   "execution_count": 119,
   "id": "atmospheric-blues",
   "metadata": {},
   "outputs": [
    {
     "data": {
      "text/plain": [
       "4625.0874"
      ]
     },
     "execution_count": 119,
     "metadata": {},
     "output_type": "execute_result"
    }
   ],
   "source": [
    "price"
   ]
  },
  {
   "cell_type": "code",
   "execution_count": 120,
   "id": "hollywood-message",
   "metadata": {},
   "outputs": [
    {
     "data": {
      "text/plain": [
       "'The predicted price is 4625.09 while the true price is 4567.0'"
      ]
     },
     "execution_count": 120,
     "metadata": {},
     "output_type": "execute_result"
    }
   ],
   "source": [
    "f'The predicted price is {price:2.2f} while the true price is {scaler.inverse_transform(np.append(y_test, y_test))[0]}'"
   ]
  },
  {
   "cell_type": "code",
   "execution_count": 121,
   "id": "later-quantity",
   "metadata": {},
   "outputs": [
    {
     "data": {
      "text/plain": [
       "'The previous price: 4655.27'"
      ]
     },
     "execution_count": 121,
     "metadata": {},
     "output_type": "execute_result"
    }
   ],
   "source": [
    "f'The previous price: {spx_1d_data.close[-2]:2.2f}'"
   ]
  },
  {
   "cell_type": "markdown",
   "id": "correct-publisher",
   "metadata": {},
   "source": [
    "The model has to be tested on bigger test set to consider it as a promising one, obviously."
   ]
  }
 ],
 "metadata": {
  "kernelspec": {
   "display_name": "Python 3",
   "language": "python",
   "name": "python3"
  },
  "language_info": {
   "codemirror_mode": {
    "name": "ipython",
    "version": 3
   },
   "file_extension": ".py",
   "mimetype": "text/x-python",
   "name": "python",
   "nbconvert_exporter": "python",
   "pygments_lexer": "ipython3",
   "version": "3.7.6"
  }
 },
 "nbformat": 4,
 "nbformat_minor": 5
}
